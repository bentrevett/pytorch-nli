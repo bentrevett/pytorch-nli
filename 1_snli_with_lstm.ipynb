{
 "cells": [
  {
   "cell_type": "code",
   "execution_count": 1,
   "metadata": {},
   "outputs": [],
   "source": [
    "import torch\n",
    "import torch.nn as nn\n",
    "import torch.nn.functional as F\n",
    "import torch.optim as optim\n",
    "from torch.utils.data import Dataset, DataLoader\n",
    "from torch.nn.utils.rnn import pad_sequence\n",
    "\n",
    "from torchtext.utils import download_from_url, extract_archive\n",
    "\n",
    "import nltk\n",
    "import json\n",
    "from tqdm import tqdm\n",
    "import numpy as np\n",
    "\n",
    "import time\n",
    "import os\n",
    "import random\n",
    "from collections import Counter\n",
    "from collections import defaultdict"
   ]
  },
  {
   "cell_type": "code",
   "execution_count": 2,
   "metadata": {},
   "outputs": [],
   "source": [
    "torch.manual_seed(1)\n",
    "random.seed(1)\n",
    "np.random.seed(1)"
   ]
  },
  {
   "cell_type": "code",
   "execution_count": 3,
   "metadata": {},
   "outputs": [],
   "source": [
    "def download_and_extract(url, root):\n",
    "    os.makedirs(root, exist_ok=True)\n",
    "    dataset_tar = download_from_url(snli_url, root=root)\n",
    "    _ = extract_archive(dataset_tar)"
   ]
  },
  {
   "cell_type": "code",
   "execution_count": 4,
   "metadata": {},
   "outputs": [],
   "source": [
    "snli_url = \"http://nlp.stanford.edu/projects/snli/snli_1.0.zip\"\n",
    "root = \".data\"\n",
    "\n",
    "download_and_extract(snli_url, root)"
   ]
  },
  {
   "cell_type": "code",
   "execution_count": 5,
   "metadata": {},
   "outputs": [],
   "source": [
    "class NLIDataset(Dataset):\n",
    "    \n",
    "    def __init__(self, path, field_tokenizers, field_numericalizers=dict()):\n",
    "        \n",
    "        data_iter = self._load_data(path)\n",
    "        self.data = self._process_data(data_iter, field_tokenizers, field_numericalizers)\n",
    "    \n",
    "    def _load_data(self, path):\n",
    "        with open(path, 'r') as f:\n",
    "            for line in f:\n",
    "                example = json.loads(line)\n",
    "                if example['gold_label'] == '-':\n",
    "                    continue\n",
    "                yield example\n",
    "                \n",
    "    def _process_data(self, data_iter, field_tokenizers, field_numericalizers):\n",
    "        data = []\n",
    "        for example in tqdm(data_iter):\n",
    "            _example = dict()\n",
    "            for field, tokenizer in field_tokenizers.items():\n",
    "                numericalizer = field_numericalizers.get(field)\n",
    "                if tokenizer is not None:\n",
    "                    _example[field] = tokenizer(example[field])\n",
    "                else:\n",
    "                    _example[field] = example[field]\n",
    "                if numericalizer is not None:\n",
    "                    _example[field] = numericalizer(_example[field])\n",
    "            data.append(_example)\n",
    "        return data        \n",
    "    \n",
    "    def __getitem__(self, index):\n",
    "        return self.data[index]\n",
    "    \n",
    "    def __len__(self):\n",
    "        return len(self.data)"
   ]
  },
  {
   "cell_type": "code",
   "execution_count": 6,
   "metadata": {},
   "outputs": [],
   "source": [
    "class Tokenizer:\n",
    "    \n",
    "    def __init__(self, lower=True, max_length=250):\n",
    "        \n",
    "        self.lower = lower\n",
    "        self.max_length = max_length\n",
    "        \n",
    "    def tokenize(self, text):\n",
    "        \n",
    "        assert isinstance(text, str)\n",
    "        \n",
    "        tokens = nltk.word_tokenize(text)\n",
    "        \n",
    "        if self.max_length is not None:\n",
    "            tokens = tokens[:self.max_length]\n",
    "            \n",
    "        if self.lower:\n",
    "            tokens = [token.lower() for token in tokens]\n",
    "            \n",
    "        return tokens"
   ]
  },
  {
   "cell_type": "code",
   "execution_count": 7,
   "metadata": {},
   "outputs": [],
   "source": [
    "sentence_tokenizer = Tokenizer(lower=True, max_length=250)"
   ]
  },
  {
   "cell_type": "code",
   "execution_count": 8,
   "metadata": {},
   "outputs": [
    {
     "name": "stderr",
     "output_type": "stream",
     "text": [
      "549367it [01:22, 6654.79it/s]\n"
     ]
    }
   ],
   "source": [
    "field_tokenizers = {'gold_label': None,\n",
    "                    'sentence1': sentence_tokenizer.tokenize,\n",
    "                    'sentence2': sentence_tokenizer.tokenize}\n",
    "\n",
    "train_data = NLIDataset('.data/snli_1.0/snli_1.0_train.jsonl', \n",
    "                        field_tokenizers)"
   ]
  },
  {
   "cell_type": "code",
   "execution_count": 9,
   "metadata": {},
   "outputs": [
    {
     "data": {
      "text/plain": [
       "{'gold_label': 'neutral',\n",
       " 'sentence1': ['a',\n",
       "  'person',\n",
       "  'on',\n",
       "  'a',\n",
       "  'horse',\n",
       "  'jumps',\n",
       "  'over',\n",
       "  'a',\n",
       "  'broken',\n",
       "  'down',\n",
       "  'airplane',\n",
       "  '.'],\n",
       " 'sentence2': ['a',\n",
       "  'person',\n",
       "  'is',\n",
       "  'training',\n",
       "  'his',\n",
       "  'horse',\n",
       "  'for',\n",
       "  'a',\n",
       "  'competition',\n",
       "  '.']}"
      ]
     },
     "execution_count": 9,
     "metadata": {},
     "output_type": "execute_result"
    }
   ],
   "source": [
    "train_data[0]"
   ]
  },
  {
   "cell_type": "code",
   "execution_count": 10,
   "metadata": {},
   "outputs": [],
   "source": [
    "def build_token_freqs(data):\n",
    "    freqs = defaultdict(Counter)\n",
    "    for example in data:\n",
    "        for field_name, field_value in example.items():\n",
    "            if isinstance(field_value, list):\n",
    "                freqs[field_name].update(field_value)\n",
    "            else:\n",
    "                freqs[field_name].update([field_value])\n",
    "    return freqs "
   ]
  },
  {
   "cell_type": "code",
   "execution_count": 11,
   "metadata": {},
   "outputs": [],
   "source": [
    "freqs = build_token_freqs(train_data)"
   ]
  },
  {
   "cell_type": "code",
   "execution_count": 12,
   "metadata": {},
   "outputs": [
    {
     "data": {
      "text/plain": [
       "dict_keys(['gold_label', 'sentence1', 'sentence2'])"
      ]
     },
     "execution_count": 12,
     "metadata": {},
     "output_type": "execute_result"
    }
   ],
   "source": [
    "freqs.keys()"
   ]
  },
  {
   "cell_type": "code",
   "execution_count": 13,
   "metadata": {},
   "outputs": [
    {
     "data": {
      "text/plain": [
       "[('entailment', 183416), ('contradiction', 183187), ('neutral', 182764)]"
      ]
     },
     "execution_count": 13,
     "metadata": {},
     "output_type": "execute_result"
    }
   ],
   "source": [
    "freqs['gold_label'].most_common()"
   ]
  },
  {
   "cell_type": "code",
   "execution_count": 14,
   "metadata": {},
   "outputs": [],
   "source": [
    "class Vocab:\n",
    "    def __init__(self, freqs, max_size=None, min_freq=1, unk_token='<unk>', \n",
    "                 pad_token='<pad>', special_tokens=[]):\n",
    "\n",
    "        assert isinstance(freqs, Counter)\n",
    "\n",
    "        self.max_size = max_size\n",
    "        self.min_freq = min_freq\n",
    "        self.unk_token = unk_token\n",
    "        self.pad_token = pad_token\n",
    "        self.special_tokens = special_tokens\n",
    "\n",
    "        self.stoi, self.itos = self.create_vocab(freqs)\n",
    "\n",
    "    def create_vocab(self, freqs):\n",
    "\n",
    "        stoi = dict()\n",
    "        itos = list()\n",
    "\n",
    "        if self.unk_token is not None:\n",
    "            itos.append(self.unk_token)\n",
    "        if self.pad_token is not None:\n",
    "            itos.append(self.pad_token)\n",
    "        for token in self.special_tokens:\n",
    "            itos.append(token)\n",
    "\n",
    "        for token, count in freqs.most_common(self.max_size):\n",
    "            if token in itos:\n",
    "                continue\n",
    "            if count < self.min_freq:\n",
    "                break\n",
    "            else:\n",
    "                itos.append(token)\n",
    "\n",
    "        stoi.update({t: i for i, t in enumerate(itos)})\n",
    "\n",
    "        return stoi, itos\n",
    "    \n",
    "    def numericalize(self, tokens):\n",
    "        \n",
    "        if isinstance(tokens, str):\n",
    "            return self.stoi.get(tokens, self.stoi.get(self.unk_token))\n",
    "            \n",
    "        return [self.stoi.get(t, self.stoi.get(self.unk_token)) for t in tokens]\n",
    "    \n",
    "    def denumericalize(self, indexes):\n",
    "        \n",
    "        if isinstance(indexes, int):\n",
    "            return self.itos[indexes]\n",
    "        \n",
    "        return [self.itos[i] for i in indexes]\n",
    "    \n",
    "    def __getitem__(self, token):\n",
    "        return self.stoi.get(token, self.stoi.get(self.unk_token))\n",
    "    \n",
    "    def __len__(self):\n",
    "        return len(self.itos)"
   ]
  },
  {
   "cell_type": "code",
   "execution_count": 15,
   "metadata": {},
   "outputs": [],
   "source": [
    "sentence_freqs = freqs['sentence1'] + freqs['sentence2']\n",
    "label_freqs = freqs['gold_label']"
   ]
  },
  {
   "cell_type": "code",
   "execution_count": 16,
   "metadata": {},
   "outputs": [
    {
     "data": {
      "text/plain": [
       "[('a', 1438921),\n",
       " ('.', 962726),\n",
       " ('the', 534667),\n",
       " ('in', 407046),\n",
       " ('is', 373534),\n",
       " ('man', 266099),\n",
       " ('on', 235836),\n",
       " ('and', 206204),\n",
       " ('are', 199110),\n",
       " ('of', 192082),\n",
       " ('with', 169233),\n",
       " ('woman', 137620),\n",
       " ('two', 122071),\n",
       " ('people', 121150),\n",
       " (',', 114347),\n",
       " ('to', 113880),\n",
       " ('at', 98656),\n",
       " ('wearing', 81006),\n",
       " ('an', 80206),\n",
       " ('his', 72442)]"
      ]
     },
     "execution_count": 16,
     "metadata": {},
     "output_type": "execute_result"
    }
   ],
   "source": [
    "sentence_freqs.most_common(20)"
   ]
  },
  {
   "cell_type": "code",
   "execution_count": 17,
   "metadata": {},
   "outputs": [],
   "source": [
    "sentence_vocab = Vocab(sentence_freqs, min_freq=2)\n",
    "label_vocab = Vocab(label_freqs, unk_token=None, pad_token=None)"
   ]
  },
  {
   "cell_type": "code",
   "execution_count": 18,
   "metadata": {},
   "outputs": [
    {
     "name": "stdout",
     "output_type": "stream",
     "text": [
      "Unique tokens in sentence vocabulary: 25547\n",
      "Unique tokens in label vocabulary: 3\n"
     ]
    }
   ],
   "source": [
    "print(f'Unique tokens in sentence vocabulary: {len(sentence_vocab)}')\n",
    "print(f'Unique tokens in label vocabulary: {len(label_vocab)}')"
   ]
  },
  {
   "cell_type": "code",
   "execution_count": 19,
   "metadata": {},
   "outputs": [
    {
     "data": {
      "text/plain": [
       "{'entailment': 0, 'contradiction': 1, 'neutral': 2}"
      ]
     },
     "execution_count": 19,
     "metadata": {},
     "output_type": "execute_result"
    }
   ],
   "source": [
    "label_vocab.stoi"
   ]
  },
  {
   "cell_type": "code",
   "execution_count": 20,
   "metadata": {},
   "outputs": [
    {
     "name": "stderr",
     "output_type": "stream",
     "text": [
      "549367it [01:25, 6396.28it/s]\n"
     ]
    }
   ],
   "source": [
    "field_tokenizers = {'gold_label': None,\n",
    "                    'sentence1': sentence_tokenizer.tokenize,\n",
    "                    'sentence2': sentence_tokenizer.tokenize}\n",
    "\n",
    "field_numericalizers = {'gold_label': label_vocab.numericalize,\n",
    "                        'sentence1': sentence_vocab.numericalize,\n",
    "                        'sentence2': sentence_vocab.numericalize}\n",
    "\n",
    "train_data = NLIDataset('.data/snli_1.0/snli_1.0_train.jsonl', \n",
    "                        field_tokenizers,\n",
    "                        field_numericalizers)"
   ]
  },
  {
   "cell_type": "code",
   "execution_count": 21,
   "metadata": {},
   "outputs": [
    {
     "data": {
      "text/plain": [
       "{'gold_label': 2,\n",
       " 'sentence1': [2, 43, 8, 2, 194, 204, 78, 2, 1150, 39, 799, 3],\n",
       " 'sentence2': [2, 43, 6, 1154, 21, 194, 38, 2, 441, 3]}"
      ]
     },
     "execution_count": 21,
     "metadata": {},
     "output_type": "execute_result"
    }
   ],
   "source": [
    "train_data[0]"
   ]
  },
  {
   "cell_type": "code",
   "execution_count": 22,
   "metadata": {},
   "outputs": [],
   "source": [
    "def denumericalize_example(example, field_denumericalizers):\n",
    "    _example = dict()\n",
    "    for field, denumericalizer in field_denumericalizers.items():\n",
    "        _example[field] = denumericalizer(example[field])\n",
    "    return _example"
   ]
  },
  {
   "cell_type": "code",
   "execution_count": 23,
   "metadata": {},
   "outputs": [],
   "source": [
    "field_denumericalizers = {'gold_label': label_vocab.denumericalize,\n",
    "                          'sentence1': sentence_vocab.denumericalize,\n",
    "                          'sentence2': sentence_vocab.denumericalize}"
   ]
  },
  {
   "cell_type": "code",
   "execution_count": 24,
   "metadata": {},
   "outputs": [
    {
     "data": {
      "text/plain": [
       "{'gold_label': 'neutral',\n",
       " 'sentence1': ['a',\n",
       "  'person',\n",
       "  'on',\n",
       "  'a',\n",
       "  'horse',\n",
       "  'jumps',\n",
       "  'over',\n",
       "  'a',\n",
       "  'broken',\n",
       "  'down',\n",
       "  'airplane',\n",
       "  '.'],\n",
       " 'sentence2': ['a',\n",
       "  'person',\n",
       "  'is',\n",
       "  'training',\n",
       "  'his',\n",
       "  'horse',\n",
       "  'for',\n",
       "  'a',\n",
       "  'competition',\n",
       "  '.']}"
      ]
     },
     "execution_count": 24,
     "metadata": {},
     "output_type": "execute_result"
    }
   ],
   "source": [
    "denumericalize_example(train_data[0], field_denumericalizers)"
   ]
  },
  {
   "cell_type": "code",
   "execution_count": 25,
   "metadata": {},
   "outputs": [
    {
     "name": "stderr",
     "output_type": "stream",
     "text": [
      "9842it [00:01, 6227.64it/s]\n",
      "9824it [00:01, 6082.69it/s]\n"
     ]
    }
   ],
   "source": [
    "valid_data = NLIDataset('.data/snli_1.0/snli_1.0_dev.jsonl', \n",
    "                        field_tokenizers,\n",
    "                        field_numericalizers)\n",
    "\n",
    "test_data = NLIDataset('.data/snli_1.0/snli_1.0_test.jsonl', \n",
    "                        field_tokenizers,\n",
    "                        field_numericalizers)"
   ]
  },
  {
   "cell_type": "code",
   "execution_count": 26,
   "metadata": {},
   "outputs": [],
   "source": [
    "class SNLICollator:\n",
    "    def __init__(self, field_pad_idxs, device, batch_first=False):\n",
    "        \n",
    "        self.field_pad_idxs = field_pad_idxs\n",
    "        self.device = device\n",
    "        self.batch_first = batch_first\n",
    "        \n",
    "    def collate(self, batch):\n",
    "        \n",
    "        labels = []\n",
    "        premises = []\n",
    "        hypotheses = []\n",
    "        \n",
    "        for example in batch:\n",
    "            labels.append(example['gold_label'])\n",
    "            premises.append(torch.LongTensor(example['sentence1']))\n",
    "            hypotheses.append(torch.LongTensor(example['sentence2']))\n",
    "            \n",
    "        premises = pad_sequence(premises, \n",
    "                                padding_value=self.field_pad_idxs['sentence1'],\n",
    "                                batch_first=self.batch_first).to(self.device)\n",
    "        hypotheses = pad_sequence(hypotheses,\n",
    "                                  padding_value=self.field_pad_idxs['sentence2'],\n",
    "                                  batch_first=self.batch_first).to(self.device)\n",
    "        labels = torch.LongTensor(labels).to(self.device)\n",
    "        \n",
    "        return labels, premises, hypotheses"
   ]
  },
  {
   "cell_type": "code",
   "execution_count": 27,
   "metadata": {},
   "outputs": [],
   "source": [
    "field_pad_idxs = {'gold_label': label_vocab[label_vocab.pad_token],\n",
    "                  'sentence1': sentence_vocab[sentence_vocab.pad_token],\n",
    "                  'sentence2': sentence_vocab[sentence_vocab.pad_token]}"
   ]
  },
  {
   "cell_type": "code",
   "execution_count": 28,
   "metadata": {},
   "outputs": [
    {
     "name": "stdout",
     "output_type": "stream",
     "text": [
      "cuda\n"
     ]
    }
   ],
   "source": [
    "device = torch.device('cuda' if torch.cuda.is_available() else 'cpu')\n",
    "\n",
    "print(device)"
   ]
  },
  {
   "cell_type": "code",
   "execution_count": 29,
   "metadata": {},
   "outputs": [],
   "source": [
    "collator = SNLICollator(field_pad_idxs, device)"
   ]
  },
  {
   "cell_type": "code",
   "execution_count": 30,
   "metadata": {},
   "outputs": [],
   "source": [
    "batch_size = 128\n",
    "\n",
    "train_iterator = DataLoader(train_data, batch_size=batch_size, shuffle=True, collate_fn=collator.collate)\n",
    "valid_iterator = DataLoader(valid_data, batch_size=batch_size, shuffle=False, collate_fn=collator.collate)\n",
    "test_iterator = DataLoader(test_data, batch_size=batch_size, shuffle=False, collate_fn=collator.collate)"
   ]
  },
  {
   "cell_type": "code",
   "execution_count": 31,
   "metadata": {},
   "outputs": [],
   "source": [
    "class NLIBiLSTM(nn.Module):\n",
    "    def __init__(self, \n",
    "                 vocab_size, \n",
    "                 embedding_dim,\n",
    "                 hidden_dim,\n",
    "                 n_lstm_layers,\n",
    "                 bidirectional,\n",
    "                 n_fc_layers,\n",
    "                 output_dim, \n",
    "                 dropout, \n",
    "                 pad_idx):\n",
    "        \n",
    "        super().__init__()\n",
    "                                \n",
    "        self.embedding = nn.Embedding(vocab_size, embedding_dim, padding_idx = pad_idx)\n",
    "        \n",
    "        self.translation = nn.Linear(embedding_dim, hidden_dim)\n",
    "        \n",
    "        self.lstm = nn.LSTM(hidden_dim, hidden_dim, num_layers=n_lstm_layers, \n",
    "                            bidirectional=bidirectional, \n",
    "                            dropout=dropout if n_lstm_layers > 1 else 0)\n",
    "        \n",
    "        fc_dim = hidden_dim * 2 if bidirectional else hidden_dim\n",
    "        \n",
    "        fcs = [nn.Linear(fc_dim * 2, fc_dim * 2) for _ in range(n_fc_layers)]\n",
    "        \n",
    "        self.fcs = nn.ModuleList(fcs)\n",
    "        \n",
    "        self.fc_out = nn.Linear(fc_dim * 2, output_dim)\n",
    "        \n",
    "        self.dropout = nn.Dropout(dropout)\n",
    "        \n",
    "    def forward(self, prem, hypo):\n",
    "\n",
    "        prem_seq_len, batch_size = prem.shape\n",
    "        hypo_seq_len, _ = hypo.shape\n",
    "        \n",
    "        #prem = [prem sent len, batch size]\n",
    "        #hypo = [hypo sent len, batch size]\n",
    "        \n",
    "        embedded_prem = self.embedding(prem)\n",
    "        embedded_hypo = self.embedding(hypo)\n",
    "        \n",
    "        #embedded_prem = [prem sent len, batch size, embedding dim]\n",
    "        #embedded_hypo = [hypo sent len, batch size, embedding dim]\n",
    "        \n",
    "        translated_prem = F.relu(self.translation(embedded_prem))\n",
    "        translated_hypo = F.relu(self.translation(embedded_hypo))\n",
    "        \n",
    "        #translated_prem = [prem sent len, batch size, hidden dim]\n",
    "        #translated_hypo = [hypo sent len, batch size, hidden dim]\n",
    "        \n",
    "        outputs_prem, (hidden_prem, cell_prem) = self.lstm(translated_prem)\n",
    "        outputs_hypo, (hidden_hypo, cell_hypo) = self.lstm(translated_hypo)\n",
    "\n",
    "        #outputs_x = [sent len, batch size, n directions * hid dim]\n",
    "        #hidden_x = [n layers * n directions, batch size, hid dim]\n",
    "        #cell_x = [n layers * n directions, batch size, hid dim]\n",
    "        \n",
    "        if self.lstm.bidirectional:\n",
    "            hidden_prem = torch.cat((hidden_prem[-1], hidden_prem[-2]), dim=-1)\n",
    "            hidden_hypo = torch.cat((hidden_hypo[-1], hidden_hypo[-2]), dim=-1)\n",
    "        else:\n",
    "            hidden_prem = hidden_prem[-1]\n",
    "            hidden_hypo = hidden_hypo[-1]\n",
    "        \n",
    "        #hidden_x = [batch size, fc dim]\n",
    "\n",
    "        hidden = torch.cat((hidden_prem, hidden_hypo), dim=1)\n",
    "\n",
    "        #hidden = [batch size, fc dim * 2]\n",
    "            \n",
    "        for fc in self.fcs:\n",
    "            hidden = fc(hidden)\n",
    "            hidden = F.relu(hidden)\n",
    "            hidden = self.dropout(hidden)\n",
    "        \n",
    "        prediction = self.fc_out(hidden)\n",
    "        \n",
    "        #prediction = [batch size, output dim]\n",
    "        \n",
    "        return prediction"
   ]
  },
  {
   "cell_type": "code",
   "execution_count": 32,
   "metadata": {},
   "outputs": [],
   "source": [
    "input_dim = len(sentence_vocab)\n",
    "embedding_dim = 100\n",
    "hidden_dim = 300\n",
    "n_lstm_layers = 1\n",
    "bidirectional = True\n",
    "n_fc_layers = 3\n",
    "output_dim = len(label_vocab)\n",
    "dropout = 0.2\n",
    "pad_idx = sentence_vocab[sentence_vocab.pad_token]\n",
    "\n",
    "model = NLIBiLSTM(input_dim,\n",
    "                  embedding_dim,\n",
    "                  hidden_dim,\n",
    "                  n_lstm_layers,\n",
    "                  bidirectional,\n",
    "                  n_fc_layers,\n",
    "                  output_dim,\n",
    "                  dropout,\n",
    "                  pad_idx)"
   ]
  },
  {
   "cell_type": "code",
   "execution_count": 33,
   "metadata": {},
   "outputs": [
    {
     "name": "stdout",
     "output_type": "stream",
     "text": [
      "The model has 8,357,003 trainable parameters\n"
     ]
    }
   ],
   "source": [
    "def count_parameters(model):\n",
    "    return sum(p.numel() for p in model.parameters() if p.requires_grad)\n",
    "\n",
    "print(f'The model has {count_parameters(model):,} trainable parameters')"
   ]
  },
  {
   "cell_type": "code",
   "execution_count": 34,
   "metadata": {},
   "outputs": [],
   "source": [
    "def get_pretrained_glove_vectors(vocab, dimension, root='.data'):\n",
    "    url = 'http://nlp.stanford.edu/data/glove.6B.zip'\n",
    "    download_and_extract(url, root)\n",
    "    vectors = torch.zeros(len(vocab), dimension)\n",
    "    found = 0\n",
    "    with open(f'{root}/glove.6B.{dimension}d.txt', 'r') as f:\n",
    "        for line in tqdm(f):\n",
    "            token, *vector = line.split()\n",
    "            if token in vocab.stoi:\n",
    "                found += 1\n",
    "                vector = [float(v) for v in vector]\n",
    "                vectors[vocab.stoi[token]] = torch.FloatTensor(vector)\n",
    "    print(f'{found/len(vocab)*100:.2f}% of vocab had a pre-trained embedding!')\n",
    "    return vectors"
   ]
  },
  {
   "cell_type": "code",
   "execution_count": 35,
   "metadata": {},
   "outputs": [
    {
     "name": "stderr",
     "output_type": "stream",
     "text": [
      "400000it [00:02, 175982.21it/s]"
     ]
    },
    {
     "name": "stdout",
     "output_type": "stream",
     "text": [
      "86.45% of vocab had a pre-trained embedding!\n"
     ]
    },
    {
     "name": "stderr",
     "output_type": "stream",
     "text": [
      "\n"
     ]
    }
   ],
   "source": [
    "pretrained_vectors = get_pretrained_glove_vectors(sentence_vocab, embedding_dim)"
   ]
  },
  {
   "cell_type": "code",
   "execution_count": 36,
   "metadata": {},
   "outputs": [
    {
     "data": {
      "text/plain": [
       "tensor([[ 0.0000,  0.0000,  0.0000,  ...,  0.0000,  0.0000,  0.0000],\n",
       "        [ 0.0000,  0.0000,  0.0000,  ...,  0.0000,  0.0000,  0.0000],\n",
       "        [-0.2709,  0.0440, -0.0203,  ..., -0.4923,  0.6369,  0.2364],\n",
       "        ...,\n",
       "        [-0.0924, -0.4158, -0.1312,  ..., -0.0713, -0.7363, -0.1793],\n",
       "        [ 0.2884, -0.8653, -0.3934,  ...,  0.3048,  1.3187, -0.5727],\n",
       "        [ 0.0000,  0.0000,  0.0000,  ...,  0.0000,  0.0000,  0.0000]])"
      ]
     },
     "execution_count": 36,
     "metadata": {},
     "output_type": "execute_result"
    }
   ],
   "source": [
    "model.embedding.weight.data.copy_(pretrained_vectors)"
   ]
  },
  {
   "cell_type": "code",
   "execution_count": 37,
   "metadata": {},
   "outputs": [],
   "source": [
    "model.embedding.weight.data[sentence_vocab[sentence_vocab.pad_token]] = torch.zeros(embedding_dim)"
   ]
  },
  {
   "cell_type": "code",
   "execution_count": 38,
   "metadata": {},
   "outputs": [],
   "source": [
    "optimizer = optim.Adam(model.parameters())"
   ]
  },
  {
   "cell_type": "code",
   "execution_count": 39,
   "metadata": {},
   "outputs": [],
   "source": [
    "criterion = nn.CrossEntropyLoss()"
   ]
  },
  {
   "cell_type": "code",
   "execution_count": 40,
   "metadata": {},
   "outputs": [],
   "source": [
    "model = model.to(device)\n",
    "criterion = criterion.to(device)"
   ]
  },
  {
   "cell_type": "code",
   "execution_count": 41,
   "metadata": {},
   "outputs": [],
   "source": [
    "def categorical_accuracy(preds, labels):\n",
    "    max_preds = preds.argmax(dim=-1) # get the index of the max probability\n",
    "    correct = max_preds.eq(labels)\n",
    "    return correct.sum() / torch.FloatTensor([labels.shape[0]])"
   ]
  },
  {
   "cell_type": "code",
   "execution_count": 42,
   "metadata": {},
   "outputs": [],
   "source": [
    "def train(model, iterator, optimizer, criterion):\n",
    "    \n",
    "    epoch_loss = 0\n",
    "    epoch_acc = 0\n",
    "    \n",
    "    model.train()\n",
    "    \n",
    "    for labels, prems, hypos in iterator:\n",
    "                \n",
    "        optimizer.zero_grad()\n",
    "        \n",
    "        #prems = [prems sent len, batch size]\n",
    "        #hypos = [hypos sent len, batch size]\n",
    "        \n",
    "        predictions = model(prems, hypos)\n",
    "        \n",
    "        #predictions = [batch size, output dim]\n",
    "        #labels = [batch size]\n",
    "        \n",
    "        loss = criterion(predictions, labels)\n",
    "                \n",
    "        acc = categorical_accuracy(predictions, labels)\n",
    "        \n",
    "        loss.backward()\n",
    "        \n",
    "        optimizer.step()\n",
    "        \n",
    "        epoch_loss += loss.item()\n",
    "        epoch_acc += acc.item()\n",
    "        \n",
    "    return epoch_loss / len(iterator), epoch_acc / len(iterator)"
   ]
  },
  {
   "cell_type": "code",
   "execution_count": 43,
   "metadata": {},
   "outputs": [],
   "source": [
    "def evaluate(model, iterator, criterion):\n",
    "    \n",
    "    epoch_loss = 0\n",
    "    epoch_acc = 0\n",
    "    \n",
    "    model.eval()\n",
    "    \n",
    "    with torch.no_grad():\n",
    "    \n",
    "        for labels, prems, hypos in iterator:\n",
    "                        \n",
    "            predictions = model(prems, hypos)\n",
    "            \n",
    "            loss = criterion(predictions, labels)\n",
    "                \n",
    "            acc = categorical_accuracy(predictions, labels)\n",
    "            \n",
    "            epoch_loss += loss.item()\n",
    "            epoch_acc += acc.item()\n",
    "        \n",
    "    return epoch_loss / len(iterator), epoch_acc / len(iterator)"
   ]
  },
  {
   "cell_type": "code",
   "execution_count": 44,
   "metadata": {},
   "outputs": [],
   "source": [
    "def epoch_time(start_time, end_time):\n",
    "    elapsed_time = end_time - start_time\n",
    "    elapsed_mins = int(elapsed_time / 60)\n",
    "    elapsed_secs = int(elapsed_time - (elapsed_mins * 60))\n",
    "    return elapsed_mins, elapsed_secs"
   ]
  },
  {
   "cell_type": "code",
   "execution_count": 45,
   "metadata": {},
   "outputs": [
    {
     "name": "stdout",
     "output_type": "stream",
     "text": [
      "Epoch: 01 | Epoch Time: 1m 20s\n",
      "\tTrain Loss: 0.725 | Train Acc: 68.59%\n",
      "\t Val. Loss: 0.609 |  Val. Acc: 74.91%\n",
      "Epoch: 02 | Epoch Time: 1m 19s\n",
      "\tTrain Loss: 0.580 | Train Acc: 76.61%\n",
      "\t Val. Loss: 0.540 |  Val. Acc: 78.57%\n",
      "Epoch: 03 | Epoch Time: 1m 20s\n",
      "\tTrain Loss: 0.516 | Train Acc: 79.64%\n",
      "\t Val. Loss: 0.511 |  Val. Acc: 79.77%\n",
      "Epoch: 04 | Epoch Time: 1m 20s\n",
      "\tTrain Loss: 0.471 | Train Acc: 81.65%\n",
      "\t Val. Loss: 0.499 |  Val. Acc: 80.25%\n",
      "Epoch: 05 | Epoch Time: 1m 18s\n",
      "\tTrain Loss: 0.433 | Train Acc: 83.32%\n",
      "\t Val. Loss: 0.494 |  Val. Acc: 80.79%\n",
      "Epoch: 06 | Epoch Time: 1m 18s\n",
      "\tTrain Loss: 0.399 | Train Acc: 84.78%\n",
      "\t Val. Loss: 0.506 |  Val. Acc: 81.04%\n",
      "Epoch: 07 | Epoch Time: 1m 18s\n",
      "\tTrain Loss: 0.366 | Train Acc: 86.14%\n",
      "\t Val. Loss: 0.507 |  Val. Acc: 80.90%\n",
      "Epoch: 08 | Epoch Time: 1m 18s\n",
      "\tTrain Loss: 0.336 | Train Acc: 87.39%\n",
      "\t Val. Loss: 0.551 |  Val. Acc: 80.46%\n",
      "Epoch: 09 | Epoch Time: 1m 18s\n",
      "\tTrain Loss: 0.307 | Train Acc: 88.57%\n",
      "\t Val. Loss: 0.562 |  Val. Acc: 80.50%\n",
      "Epoch: 10 | Epoch Time: 1m 18s\n",
      "\tTrain Loss: 0.280 | Train Acc: 89.55%\n",
      "\t Val. Loss: 0.597 |  Val. Acc: 80.76%\n"
     ]
    }
   ],
   "source": [
    "n_epochs = 10\n",
    "\n",
    "best_valid_loss = float('inf')\n",
    "\n",
    "for epoch in range(n_epochs):\n",
    "\n",
    "    start_time = time.time()\n",
    "    \n",
    "    train_loss, train_acc = train(model, train_iterator, optimizer, criterion)\n",
    "    valid_loss, valid_acc = evaluate(model, valid_iterator, criterion)\n",
    "    \n",
    "    end_time = time.time()\n",
    "\n",
    "    epoch_mins, epoch_secs = epoch_time(start_time, end_time)\n",
    "    \n",
    "    if valid_loss < best_valid_loss:\n",
    "        best_valid_loss = valid_loss\n",
    "        torch.save(model.state_dict(), 'tut1-model.pt')\n",
    "    \n",
    "    print(f'Epoch: {epoch+1:02} | Epoch Time: {epoch_mins}m {epoch_secs}s')\n",
    "    print(f'\\tTrain Loss: {train_loss:.3f} | Train Acc: {train_acc*100:.2f}%')\n",
    "    print(f'\\t Val. Loss: {valid_loss:.3f} |  Val. Acc: {valid_acc*100:.2f}%')"
   ]
  },
  {
   "cell_type": "code",
   "execution_count": 46,
   "metadata": {},
   "outputs": [
    {
     "name": "stdout",
     "output_type": "stream",
     "text": [
      "Test Loss: 0.507 |  Test Acc: 80.67%\n"
     ]
    }
   ],
   "source": [
    "model.load_state_dict(torch.load('tut1-model.pt'))\n",
    "\n",
    "test_loss, test_acc = evaluate(model, test_iterator, criterion)\n",
    "\n",
    "print(f'Test Loss: {test_loss:.3f} |  Test Acc: {test_acc*100:.2f}%')"
   ]
  },
  {
   "cell_type": "code",
   "execution_count": 47,
   "metadata": {},
   "outputs": [],
   "source": [
    "def infer(model, premise, hypothesis, sentence_tokenizer, sentence_numericalizer, label_vocab, device):\n",
    "    \n",
    "    model.eval()\n",
    "    \n",
    "    if isinstance(premise, str):\n",
    "        premise = sentence_tokenizer(premise)\n",
    "        \n",
    "    if isinstance(hypothesis, str):\n",
    "        hypothesis = sentence_tokenizer(hypothesis)\n",
    "        \n",
    "    premise = sentence_numericalizer(premise)\n",
    "    hypothesis = sentence_numericalizer(hypothesis)\n",
    "        \n",
    "    premise = torch.LongTensor(premise).unsqueeze(1).to(device)\n",
    "    hypothesis = torch.LongTensor(hypothesis).unsqueeze(1).to(device)\n",
    "            \n",
    "    prediction = model(premise, hypothesis)\n",
    "        \n",
    "    prediction = prediction.argmax(dim=-1).item()\n",
    "    \n",
    "    return label_vocab.itos[prediction]"
   ]
  },
  {
   "cell_type": "code",
   "execution_count": 48,
   "metadata": {},
   "outputs": [
    {
     "data": {
      "text/plain": [
       "'entailment'"
      ]
     },
     "execution_count": 48,
     "metadata": {},
     "output_type": "execute_result"
    }
   ],
   "source": [
    "premise = 'a blue bird in a tree.'\n",
    "hypothesis = 'an azure bird on a branch.'\n",
    "\n",
    "infer(model, premise, hypothesis, sentence_tokenizer.tokenize, sentence_vocab.numericalize, label_vocab, device)"
   ]
  },
  {
   "cell_type": "code",
   "execution_count": 49,
   "metadata": {},
   "outputs": [
    {
     "data": {
      "text/plain": [
       "'contradiction'"
      ]
     },
     "execution_count": 49,
     "metadata": {},
     "output_type": "execute_result"
    }
   ],
   "source": [
    "premise = 'a blue bird in a tree.'\n",
    "hypothesis = 'a blue bird, flying in the sky.'\n",
    "\n",
    "infer(model, premise, hypothesis, sentence_tokenizer.tokenize, sentence_vocab.numericalize, label_vocab, device)"
   ]
  },
  {
   "cell_type": "code",
   "execution_count": 59,
   "metadata": {},
   "outputs": [
    {
     "data": {
      "text/plain": [
       "'neutral'"
      ]
     },
     "execution_count": 59,
     "metadata": {},
     "output_type": "execute_result"
    }
   ],
   "source": [
    "premise = 'a blue bird in a tree.'\n",
    "hypothesis = 'a bird, just sitting there.'\n",
    "\n",
    "infer(model, premise, hypothesis, sentence_tokenizer.tokenize, sentence_vocab.numericalize, label_vocab, device)"
   ]
  }
 ],
 "metadata": {
  "kernelspec": {
   "display_name": "Python 3",
   "language": "python",
   "name": "python3"
  },
  "language_info": {
   "codemirror_mode": {
    "name": "ipython",
    "version": 3
   },
   "file_extension": ".py",
   "mimetype": "text/x-python",
   "name": "python",
   "nbconvert_exporter": "python",
   "pygments_lexer": "ipython3",
   "version": "3.7.6"
  }
 },
 "nbformat": 4,
 "nbformat_minor": 2
}
